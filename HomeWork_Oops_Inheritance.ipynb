{
 "cells": [
  {
   "cell_type": "markdown",
   "metadata": {},
   "source": [
    "HomeWork :\n",
    "    1). Create two separate classes A and B having same method name but can have different operation. Use Inheritance property \n",
    "        to access both method in class C. "
   ]
  },
  {
   "cell_type": "code",
   "execution_count": 38,
   "metadata": {},
   "outputs": [
    {
     "name": "stdout",
     "output_type": "stream",
     "text": [
      "Printing Class A\n",
      "Printing Class B\n",
      "Printing Class C\n"
     ]
    }
   ],
   "source": [
    "class A:\n",
    "    def test(self):\n",
    "        print(\"Printing Class A\")\n",
    "\n",
    "class B:\n",
    "    def test(self):\n",
    "        print(\"Printing Class B\")\n",
    "\n",
    "class C(A,B):\n",
    "    def ctest(self):\n",
    "        A.test(self)\n",
    "        B.test(self)\n",
    "        print(\"Printing Class C\")\n",
    "       \n",
    "x = C()  \n",
    "x.ctest()"
   ]
  },
  {
   "cell_type": "code",
   "execution_count": null,
   "metadata": {},
   "outputs": [],
   "source": []
  }
 ],
 "metadata": {
  "kernelspec": {
   "display_name": "Python 3",
   "language": "python",
   "name": "python3"
  },
  "language_info": {
   "codemirror_mode": {
    "name": "ipython",
    "version": 3
   },
   "file_extension": ".py",
   "mimetype": "text/x-python",
   "name": "python",
   "nbconvert_exporter": "python",
   "pygments_lexer": "ipython3",
   "version": "3.7.4"
  }
 },
 "nbformat": 4,
 "nbformat_minor": 2
}
