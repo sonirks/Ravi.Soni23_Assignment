{
 "cells": [
  {
   "cell_type": "markdown",
   "metadata": {},
   "source": [
    "*895\n",
    ". # 2.Problem Statement \n",
    " \n",
    " \n",
    "Task 1: "
   ]
  },
  {
   "cell_type": "markdown",
   "metadata": {},
   "source": [
    "1.1) Write a Python Program to implement your own myreduce() function which works exactly like Python's built-in function reduce() "
   ]
  },
  {
   "cell_type": "code",
   "execution_count": 12,
   "metadata": {},
   "outputs": [],
   "source": [
    "#Use ops=1 for Summation, Ops=2 for Substraction, Ops=3 for Multiplication, Ops=4 for Divison\n",
    "\n",
    "def my_reduce(lst, ops):\n",
    "    if ops == 1:\n",
    "        n=0\n",
    "        for i in lst:\n",
    "            n+=i\n",
    "        return n\n",
    "    elif ops == 2:\n",
    "        n=0\n",
    "        for i in lst:\n",
    "            n-=i\n",
    "        return n\n",
    "    elif ops == 3:\n",
    "        n=1\n",
    "        for i in lst:\n",
    "            n*=i\n",
    "        return n\n",
    "    elif ops == 4:\n",
    "        n=1\n",
    "        for i in lst:\n",
    "            n/=i\n",
    "        return n\n",
    "    else:\n",
    "        return \"No ops found\"\n",
    "        "
   ]
  },
  {
   "cell_type": "code",
   "execution_count": 13,
   "metadata": {},
   "outputs": [
    {
     "data": {
      "text/plain": [
       "0.011111111111111112"
      ]
     },
     "execution_count": 13,
     "metadata": {},
     "output_type": "execute_result"
    }
   ],
   "source": [
    "a = my_reduce([5,3,6],4)\n",
    "a"
   ]
  },
  {
   "cell_type": "markdown",
   "metadata": {},
   "source": [
    "1.2) Write a Python program to implement your own myfilter() function which works exactly like Python's built-in function filter() "
   ]
  },
  {
   "cell_type": "code",
   "execution_count": 45,
   "metadata": {},
   "outputs": [
    {
     "data": {
      "text/plain": [
       "[True, True, True]"
      ]
     },
     "execution_count": 45,
     "metadata": {},
     "output_type": "execute_result"
    }
   ],
   "source": [
    "def my_filter(arg, lst):\n",
    "    a=[]\n",
    "    b=[]\n",
    "    \n",
    "    for i in lst:\n",
    "        a.append(arg(i))\n",
    "        \n",
    "    for i in range(0,len(a)):\n",
    "        if a[i] == False:\n",
    "            continue\n",
    "        else:\n",
    "            b.append(a[i])\n",
    "            \n",
    "    return b\n",
    "    \n",
    "a= my_filter(lambda x:x>5, [5,6,7,8])\n",
    "a"
   ]
  },
  {
   "cell_type": "markdown",
   "metadata": {},
   "source": [
    "2.  Implement List comprehensions to produce the following lists. \n",
    " \n",
    "Write List comprehensions to produce the following Lists \n",
    " \n",
    "['A', 'C', 'A', 'D', 'G', 'I', ’L’, ‘ D’] \n",
    " \n",
    "['x', 'xx', 'xxx', 'xxxx', 'y', 'yy', 'yyy', 'yyyy', 'z', 'zz', 'zzz', 'zzzz'] \n",
    " \n",
    "['x', 'y', 'z', 'xx', 'yy', 'zz', 'xx', 'yy', 'zz', 'xxxx', 'yyyy', 'zzzz'] \n",
    " \n",
    "[[2], [3], [4], [3], [4], [5], [4], [5], [6]] \n",
    " \n",
    "[[2, 3, 4, 5], [3, 4, 5, 6], [4, 5, 6, 7], [5, 6, 7, 8]] \n",
    " \n",
    "[(1, 1), (2, 1), (3, 1), (1, 2), (2, 2), (3, 2), (1, 3), (2, 3), (3, 3)] \n",
    " \n"
   ]
  },
  {
   "cell_type": "code",
   "execution_count": 37,
   "metadata": {
    "scrolled": true
   },
   "outputs": [
    {
     "data": {
      "text/plain": [
       "['A', 'C', 'A', 'D', 'G', 'I', 'L', 'D']"
      ]
     },
     "execution_count": 37,
     "metadata": {},
     "output_type": "execute_result"
    }
   ],
   "source": [
    "a = [lttr for lttr in \"ACADGILD\" ]\n",
    "a"
   ]
  },
  {
   "cell_type": "code",
   "execution_count": 65,
   "metadata": {},
   "outputs": [
    {
     "data": {
      "text/plain": [
       "['x', 'xx', 'xxx', 'xxxx', 'y', 'yy', 'yyy', 'yyyy', 'z', 'zz', 'zzz', 'zzzz']"
      ]
     },
     "execution_count": 65,
     "metadata": {},
     "output_type": "execute_result"
    }
   ],
   "source": [
    "a = [i*n for i in \"xyz\" for n in range(1,5) ]\n",
    "a "
   ]
  },
  {
   "cell_type": "code",
   "execution_count": 68,
   "metadata": {},
   "outputs": [
    {
     "data": {
      "text/plain": [
       "['x', 'y', 'z', 'xx', 'yy', 'zz', 'xxx', 'yyy', 'zzz', 'xxxx', 'yyyy', 'zzzz']"
      ]
     },
     "execution_count": 68,
     "metadata": {},
     "output_type": "execute_result"
    }
   ],
   "source": [
    "a = [n*i for i in range(1,5) for n in \"xyz\" ]\n",
    "a "
   ]
  },
  {
   "cell_type": "code",
   "execution_count": 73,
   "metadata": {},
   "outputs": [
    {
     "data": {
      "text/plain": [
       "[[2], [3], [4], [3], [4], [5], [4], [5], [6]]"
      ]
     },
     "execution_count": 73,
     "metadata": {},
     "output_type": "execute_result"
    }
   ],
   "source": [
    "a = [[n+i] for i in range(3) for n in range(2,5)]\n",
    "a"
   ]
  },
  {
   "cell_type": "code",
   "execution_count": 77,
   "metadata": {},
   "outputs": [
    {
     "data": {
      "text/plain": [
       "[[2, 3, 4, 5], [3, 4, 5, 6], [4, 5, 6, 7], [5, 6, 7, 8]]"
      ]
     },
     "execution_count": 77,
     "metadata": {},
     "output_type": "execute_result"
    }
   ],
   "source": [
    "a = [[n+i for i in range(4)] for n in range(2,6)]\n",
    "a"
   ]
  },
  {
   "cell_type": "code",
   "execution_count": 34,
   "metadata": {},
   "outputs": [
    {
     "data": {
      "text/plain": [
       "[(2, 3), (2, 3), (2, 3), (2, 3), (2, 3), (2, 3), (2, 3), (2, 3), (2, 3)]"
      ]
     },
     "execution_count": 34,
     "metadata": {},
     "output_type": "execute_result"
    }
   ],
   "source": [
    "a = [tuple(i+1 for i in range(1,3)) for n in range(1,10)]\n",
    "a"
   ]
  },
  {
   "cell_type": "markdown",
   "metadata": {},
   "source": [
    "3. Implement a function longestWord() that takes a list of words and returns the longest one. \n",
    " "
   ]
  },
  {
   "cell_type": "code",
   "execution_count": 31,
   "metadata": {},
   "outputs": [
    {
     "data": {
      "text/plain": [
       "'Kumar'"
      ]
     },
     "execution_count": 31,
     "metadata": {},
     "output_type": "execute_result"
    }
   ],
   "source": [
    "#Using For loop\n",
    "#=======================\n",
    "def longest_word(lst):\n",
    "    n = []\n",
    "    ind=0\n",
    "    for i in lst:\n",
    "        n.append(len(i))\n",
    "    b = n.index(max(n))\n",
    "    return(lst[b])\n",
    "\n",
    "b = longest_word([\"Ravi\",\"Kumar\",\"Soni\"])\n",
    "b"
   ]
  },
  {
   "cell_type": "code",
   "execution_count": 24,
   "metadata": {},
   "outputs": [
    {
     "data": {
      "text/plain": [
       "'Soniii'"
      ]
     },
     "execution_count": 24,
     "metadata": {},
     "output_type": "execute_result"
    }
   ],
   "source": [
    "#Using map function\n",
    "#++++++++++++++++++++++\n",
    "def longest_word(l):\n",
    "    for i in l:\n",
    "        if len(i) == max(list(map(lambda x:len(x),l))):\n",
    "            return i\n",
    "            break\n",
    "a = long_w([\"Ravi\",\"Kumar\",\"Soniii\"])\n",
    "a"
   ]
  },
  {
   "cell_type": "markdown",
   "metadata": {},
   "source": [
    "#Task 2: \n",
    " \n",
    " \n",
    "1.1  \n",
    " \n",
    "Write a Python Program(with class concepts) to find the area of the triangle using the below formula. \n",
    " \n",
    "area = (s*(s-a)*(s-b)*(s-c)) ** 0.5 \n",
    " \n",
    "Function to take the length of the sides of triangle from user should be defined in the parent class and function to calculate the area should be defined in subclass. "
   ]
  },
  {
   "cell_type": "code",
   "execution_count": 66,
   "metadata": {},
   "outputs": [
    {
     "data": {
      "text/plain": [
       "937.5"
      ]
     },
     "execution_count": 66,
     "metadata": {},
     "output_type": "execute_result"
    }
   ],
   "source": [
    "class Base(): \n",
    "  \n",
    "    # Constructor \n",
    "    def __init__(self, x,y,z): \n",
    "        self.x = x \n",
    "        self.y = y\n",
    "        self.z = z\n",
    "        \n",
    "class Calc(Base): \n",
    "  \n",
    "    # Constructor \n",
    "    def __init__(self, x, y, z): \n",
    "        Base.x = x\n",
    "        Base.y = y\n",
    "        Base.z = z\n",
    "         \n",
    "  \n",
    "    def printXY(self):\n",
    "        s = (Base.x + Base.y + Base.z)/2\n",
    "        areaa = (s*(s-Base.x)*(s-Base.y)*(s-Base.z)) * 0.5\n",
    "        return areaa\n",
    "        \n",
    "  \n",
    "  \n",
    "# Calc Code \n",
    "d = Calc(10, 10,10) \n",
    "d.printXY() "
   ]
  },
  {
   "cell_type": "markdown",
   "metadata": {},
   "source": [
    "1.2 \n",
    " \n",
    "Write a function filter_long_words() that takes a list of words and an integer n and returns the list of words that are longer than n. "
   ]
  },
  {
   "cell_type": "code",
   "execution_count": 5,
   "metadata": {},
   "outputs": [
    {
     "data": {
      "text/plain": [
       "['Kumar', 'Soniii']"
      ]
     },
     "execution_count": 5,
     "metadata": {},
     "output_type": "execute_result"
    }
   ],
   "source": [
    "def filter_long_words(lst,ln):\n",
    "    nw_lst=[]\n",
    "    for i in lst:\n",
    "        if len(i)>ln:\n",
    "            nw_lst.append(i)\n",
    "    return nw_lst\n",
    "\n",
    "a = filter_long_words([\"Ravi\",\"Kumar\",\"Soniii\"],4)\n",
    "a"
   ]
  },
  {
   "cell_type": "markdown",
   "metadata": {},
   "source": [
    "2.1 \n",
    " \n",
    "Write a Python program using function concept that maps  list of words into a list of integers representing the lengths of the corresponding words​. \n",
    " Hint: ​If a list [ ab,cde,erty] is passed on to the python function output should come as [2,3,4] \n",
    " Here 2,3 and 4 are the lengths of the words in the list. "
   ]
  },
  {
   "cell_type": "code",
   "execution_count": 8,
   "metadata": {},
   "outputs": [
    {
     "data": {
      "text/plain": [
       "[5, 4, 5, 4]"
      ]
     },
     "execution_count": 8,
     "metadata": {},
     "output_type": "execute_result"
    }
   ],
   "source": [
    "def str_len(strr):\n",
    "    lst=[]\n",
    "    for i in strr:\n",
    "        lst.append(len(i))\n",
    "    return lst\n",
    "\n",
    "a = str_len([\"Agile\",\"Ravi\",\"Kumar\",\"Soni\"])\n",
    "a"
   ]
  },
  {
   "cell_type": "markdown",
   "metadata": {},
   "source": [
    "2.2 \n",
    " \n",
    "Write a Python function which takes a character (i.e. a string of length 1) and returns True if it is a vowel, False otherwise. "
   ]
  },
  {
   "cell_type": "code",
   "execution_count": 3,
   "metadata": {},
   "outputs": [
    {
     "data": {
      "text/plain": [
       "False"
      ]
     },
     "execution_count": 3,
     "metadata": {},
     "output_type": "execute_result"
    }
   ],
   "source": [
    "def is_vowel(alpha):\n",
    "    if alpha.upper() == 'A' or alpha.upper() == 'E' or alpha.upper() == 'I' or alpha.upper() == 'O' or alpha.upper() == 'U':\n",
    "        return True\n",
    "    else:\n",
    "        return False\n",
    "\n",
    "is_vowel(\"a\")"
   ]
  }
 ],
 "metadata": {
  "kernelspec": {
   "display_name": "Python 3",
   "language": "python",
   "name": "python3"
  },
  "language_info": {
   "codemirror_mode": {
    "name": "ipython",
    "version": 3
   },
   "file_extension": ".py",
   "mimetype": "text/x-python",
   "name": "python",
   "nbconvert_exporter": "python",
   "pygments_lexer": "ipython3",
   "version": "3.7.4"
  }
 },
 "nbformat": 4,
 "nbformat_minor": 2
}
